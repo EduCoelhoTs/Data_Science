{
 "cells": [
  {
   "cell_type": "code",
   "execution_count": null,
   "id": "d1ff9126",
   "metadata": {},
   "outputs": [],
   "source": [
    "x = 5\n",
    "\n",
    "if x == 5:\n",
    "    \n",
    "    y = 0\n",
    "    while (y <=10):\n",
    "        print(\"Valor de y é: \", y)\n",
    "        y = y + 1\n",
    "        \n",
    "    for i in [5,6,7,8,9]:\n",
    "        print(i)\n",
    "    \n",
    "    for i in range(100):\n",
    "        print(i)"
   ]
  },
  {
   "cell_type": "code",
   "execution_count": null,
   "id": "99d547e7",
   "metadata": {},
   "outputs": [],
   "source": [
    "x = 34 - 23\n",
    "y = \"Hello\"\n",
    "z = 3.45\n",
    "if (x == 3.45 or y == \"Hello\"):\n",
    "    x = x + 1\n",
    "    y = y + \" World\"\n",
    "\n",
    "print(x)\n",
    "print(y)"
   ]
  },
  {
   "cell_type": "markdown",
   "id": "30072007",
   "metadata": {},
   "source": [
    "## STRINGS"
   ]
  },
  {
   "cell_type": "code",
   "execution_count": 1,
   "id": "0cb8e2b8",
   "metadata": {},
   "outputs": [
    {
     "data": {
      "text/plain": [
       "'Python para Analise de Dados'"
      ]
     },
     "execution_count": 1,
     "metadata": {},
     "output_type": "execute_result"
    }
   ],
   "source": [
    "# Uma frase\n",
    "\"Python para Analise de Dados\""
   ]
  },
  {
   "cell_type": "code",
   "execution_count": 2,
   "id": "5a2f590d",
   "metadata": {},
   "outputs": [
    {
     "name": "stdout",
     "output_type": "stream",
     "text": [
      "Python para Analise de Dados\n"
     ]
    }
   ],
   "source": [
    "# Imprimindo uma string\n",
    "a = \"Python para Analise de Dados\"\n",
    "print(a)"
   ]
  },
  {
   "cell_type": "code",
   "execution_count": 4,
   "id": "1826e26a",
   "metadata": {},
   "outputs": [
    {
     "name": "stdout",
     "output_type": "stream",
     "text": [
      "h\n"
     ]
    }
   ],
   "source": [
    "# Atribuindo uma string\n",
    "b = a[3]\n",
    "print(b)"
   ]
  },
  {
   "cell_type": "code",
   "execution_count": 5,
   "id": "11f5ee78",
   "metadata": {},
   "outputs": [
    {
     "data": {
      "text/plain": [
       "'P'"
      ]
     },
     "execution_count": 5,
     "metadata": {},
     "output_type": "execute_result"
    }
   ],
   "source": [
    "# Primeiro elemento da string. \n",
    "a[0]"
   ]
  },
  {
   "cell_type": "code",
   "execution_count": 14,
   "id": "4c86cea0",
   "metadata": {},
   "outputs": [
    {
     "data": {
      "text/plain": [
       "'tho'"
      ]
     },
     "execution_count": 14,
     "metadata": {},
     "output_type": "execute_result"
    }
   ],
   "source": [
    "# Retorna todos os elementos da string, começando pela posição (lembre-se que Python começa a indexação pela posição 0),\n",
    "# até o fim da string.\n",
    "a[2:5]"
   ]
  },
  {
   "cell_type": "code",
   "execution_count": 16,
   "id": "f20ddb07",
   "metadata": {},
   "outputs": [
    {
     "data": {
      "text/plain": [
       "'Pyth'"
      ]
     },
     "execution_count": 16,
     "metadata": {},
     "output_type": "execute_result"
    }
   ],
   "source": [
    "# Retorna tudo até a posição 3\n",
    "a[:4]"
   ]
  },
  {
   "cell_type": "code",
   "execution_count": 17,
   "id": "3094a990",
   "metadata": {},
   "outputs": [
    {
     "data": {
      "text/plain": [
       "'Python para Analise de D'"
      ]
     },
     "execution_count": 17,
     "metadata": {},
     "output_type": "execute_result"
    }
   ],
   "source": [
    "# Nós também podemos usar a indexação negativa e ler de trás para frente.\n",
    "a[:-4]"
   ]
  },
  {
   "cell_type": "code",
   "execution_count": 18,
   "id": "24fd648f",
   "metadata": {},
   "outputs": [
    {
     "data": {
      "text/plain": [
       "'Python para Analise de Dado'"
      ]
     },
     "execution_count": 18,
     "metadata": {},
     "output_type": "execute_result"
    }
   ],
   "source": [
    "# Retornar tudo, exceto a última letra\n",
    "a[:-1]"
   ]
  },
  {
   "cell_type": "code",
   "execution_count": 22,
   "id": "5421ca8b",
   "metadata": {},
   "outputs": [
    {
     "data": {
      "text/plain": [
       "'Daniel Teofilo'"
      ]
     },
     "execution_count": 22,
     "metadata": {},
     "output_type": "execute_result"
    }
   ],
   "source": [
    "# Concatenando strings\n",
    "a = \"Daniel\" \n",
    "b = \"Teofilo\"\n",
    "a + \" \" + b"
   ]
  },
  {
   "cell_type": "code",
   "execution_count": 25,
   "id": "7b42938e",
   "metadata": {},
   "outputs": [
    {
     "data": {
      "text/plain": [
       "'DANIEL'"
      ]
     },
     "execution_count": 25,
     "metadata": {},
     "output_type": "execute_result"
    }
   ],
   "source": [
    "# Upper Case \n",
    "a = \"Daniel\"\n",
    "a.upper()"
   ]
  },
  {
   "cell_type": "code",
   "execution_count": 26,
   "id": "fe751a0f",
   "metadata": {},
   "outputs": [
    {
     "data": {
      "text/plain": [
       "'daniel'"
      ]
     },
     "execution_count": 26,
     "metadata": {},
     "output_type": "execute_result"
    }
   ],
   "source": [
    "# Lower case\n",
    "a.lower()"
   ]
  },
  {
   "cell_type": "code",
   "execution_count": 29,
   "id": "bcd2b015",
   "metadata": {},
   "outputs": [
    {
     "name": "stdout",
     "output_type": "stream",
     "text": [
      "<class 'list'>\n"
     ]
    }
   ],
   "source": [
    "# Dividir uma string por espaços em branco (padrão)\n",
    "c = a + \" \" + b\n",
    "c\n",
    "d = c.split()\n",
    "print(type(d))"
   ]
  },
  {
   "cell_type": "code",
   "execution_count": 30,
   "id": "bf535196",
   "metadata": {},
   "outputs": [
    {
     "data": {
      "text/plain": [
       "['Daniel', 'Teofilo']"
      ]
     },
     "execution_count": 30,
     "metadata": {},
     "output_type": "execute_result"
    }
   ],
   "source": [
    "# Dividir uma string por um elemento específico\n",
    "c = a + \"|\" + b\n",
    "d = c.split('|')\n",
    "d"
   ]
  },
  {
   "cell_type": "markdown",
   "id": "86185663",
   "metadata": {},
   "source": [
    "## Listas"
   ]
  },
  {
   "cell_type": "code",
   "execution_count": 32,
   "id": "a94e36ea",
   "metadata": {},
   "outputs": [
    {
     "data": {
      "text/plain": [
       "['São Paulo', 'Rio de Janeiro', 'Fortaleza']"
      ]
     },
     "execution_count": 32,
     "metadata": {},
     "output_type": "execute_result"
    }
   ],
   "source": [
    "# Criando uma lista\n",
    "lst1 = ['São Paulo', 'Rio de Janeiro','Fortaleza']\n",
    "lst1"
   ]
  },
  {
   "cell_type": "code",
   "execution_count": 33,
   "id": "c6da533e",
   "metadata": {},
   "outputs": [
    {
     "name": "stdout",
     "output_type": "stream",
     "text": [
      "['São Paulo', 'Rio de Janeiro', 'Fortaleza']\n"
     ]
    }
   ],
   "source": [
    "# Imprimindo a lista\n",
    "print(lst1)"
   ]
  },
  {
   "cell_type": "code",
   "execution_count": 34,
   "id": "0971f032",
   "metadata": {},
   "outputs": [],
   "source": [
    "# Criando outra lista\n",
    "lst2 = ['SP', 100, 20.4]"
   ]
  },
  {
   "cell_type": "code",
   "execution_count": 35,
   "id": "aa0f0ac1",
   "metadata": {},
   "outputs": [
    {
     "data": {
      "text/plain": [
       "['SP', 100, 20.4]"
      ]
     },
     "execution_count": 35,
     "metadata": {},
     "output_type": "execute_result"
    }
   ],
   "source": [
    "# Imprimindo a lista\n",
    "lst2"
   ]
  },
  {
   "cell_type": "code",
   "execution_count": 38,
   "id": "66d89670",
   "metadata": {},
   "outputs": [],
   "source": [
    "# Atribuindo cada valor da lista a uma variável.\n",
    "v1 = lst1[1]"
   ]
  },
  {
   "cell_type": "code",
   "execution_count": 39,
   "id": "8b7eed00",
   "metadata": {},
   "outputs": [
    {
     "name": "stdout",
     "output_type": "stream",
     "text": [
      "Rio de Janeiro\n"
     ]
    }
   ],
   "source": [
    "# Imprimindo as variáveis\n",
    "print(v1)"
   ]
  },
  {
   "cell_type": "code",
   "execution_count": 40,
   "id": "f1a57795",
   "metadata": {},
   "outputs": [
    {
     "name": "stdout",
     "output_type": "stream",
     "text": [
      "Fortaleza\n"
     ]
    }
   ],
   "source": [
    "# Imprimindo um item da lista\n",
    "print(lst1[2])"
   ]
  },
  {
   "cell_type": "code",
   "execution_count": 41,
   "id": "8e3c91e3",
   "metadata": {},
   "outputs": [],
   "source": [
    "# Atualizando um item da lista\n",
    "lst1.append('Recife')"
   ]
  },
  {
   "cell_type": "code",
   "execution_count": 42,
   "id": "3812e64e",
   "metadata": {},
   "outputs": [
    {
     "name": "stdout",
     "output_type": "stream",
     "text": [
      "['São Paulo', 'Rio de Janeiro', 'Fortaleza', 'Recife']\n"
     ]
    }
   ],
   "source": [
    "# Imprimindo lista alterada\n",
    "print(lst1)"
   ]
  },
  {
   "cell_type": "code",
   "execution_count": 43,
   "id": "4231343d",
   "metadata": {},
   "outputs": [
    {
     "ename": "NameError",
     "evalue": "name 'lst' is not defined",
     "output_type": "error",
     "traceback": [
      "\u001b[1;31m---------------------------------------------------------------------------\u001b[0m",
      "\u001b[1;31mNameError\u001b[0m                                 Traceback (most recent call last)",
      "\u001b[1;32m<ipython-input-43-b2ff3a2e9fe3>\u001b[0m in \u001b[0;36m<module>\u001b[1;34m\u001b[0m\n\u001b[0;32m      1\u001b[0m \u001b[1;31m# Out of index.\u001b[0m\u001b[1;33m\u001b[0m\u001b[1;33m\u001b[0m\u001b[1;33m\u001b[0m\u001b[0m\n\u001b[1;32m----> 2\u001b[1;33m \u001b[0mlst\u001b[0m\u001b[1;33m[\u001b[0m\u001b[1;36m4\u001b[0m\u001b[1;33m]\u001b[0m\u001b[1;33m\u001b[0m\u001b[1;33m\u001b[0m\u001b[0m\n\u001b[0m",
      "\u001b[1;31mNameError\u001b[0m: name 'lst' is not defined"
     ]
    }
   ],
   "source": [
    "# Out of index.\n",
    "lst[4]"
   ]
  },
  {
   "cell_type": "code",
   "execution_count": 45,
   "id": "fb00bcee",
   "metadata": {},
   "outputs": [],
   "source": [
    "# Deletando um item específico da lista\n",
    "del lst1[3]"
   ]
  },
  {
   "cell_type": "code",
   "execution_count": 46,
   "id": "3a41ca42",
   "metadata": {},
   "outputs": [
    {
     "data": {
      "text/plain": [
       "['São Paulo', 'Rio de Janeiro', 'Fortaleza']"
      ]
     },
     "execution_count": 46,
     "metadata": {},
     "output_type": "execute_result"
    }
   ],
   "source": [
    "# Imprimindo o item com a lista alterada\n",
    "lst1"
   ]
  },
  {
   "cell_type": "code",
   "execution_count": 47,
   "id": "20674618",
   "metadata": {},
   "outputs": [],
   "source": [
    "# Criando uma lista de listas\n",
    "lst1.append(['Natal', 9.5])"
   ]
  },
  {
   "cell_type": "code",
   "execution_count": 48,
   "id": "56f006b6",
   "metadata": {},
   "outputs": [
    {
     "data": {
      "text/plain": [
       "['São Paulo', 'Rio de Janeiro', 'Fortaleza', ['Natal', 9.5]]"
      ]
     },
     "execution_count": 48,
     "metadata": {},
     "output_type": "execute_result"
    }
   ],
   "source": [
    "# Atribuindo um item da lista a uma variável\n",
    "lst1"
   ]
  },
  {
   "cell_type": "code",
   "execution_count": 49,
   "id": "f36499df",
   "metadata": {},
   "outputs": [
    {
     "data": {
      "text/plain": [
       "4"
      ]
     },
     "execution_count": 49,
     "metadata": {},
     "output_type": "execute_result"
    }
   ],
   "source": [
    "# Função len() retorna o comprimento da lista\n",
    "len(lst1)"
   ]
  },
  {
   "cell_type": "code",
   "execution_count": 60,
   "id": "9c51c9ad",
   "metadata": {},
   "outputs": [
    {
     "data": {
      "text/plain": [
       "'2'"
      ]
     },
     "execution_count": 60,
     "metadata": {},
     "output_type": "execute_result"
    }
   ],
   "source": [
    "# Função max() retorna o valor máximo da lista\n",
    "lst3 = ['a','2','300000','zz','5','a']\n",
    "max(lst3)"
   ]
  },
  {
   "cell_type": "code",
   "execution_count": 61,
   "id": "ae8042c9",
   "metadata": {},
   "outputs": [
    {
     "data": {
      "text/plain": [
       "'2'"
      ]
     },
     "execution_count": 61,
     "metadata": {},
     "output_type": "execute_result"
    }
   ],
   "source": [
    "# Função min() retorna o valor mínimo da lista\n",
    "min(lst3)"
   ]
  },
  {
   "cell_type": "code",
   "execution_count": 62,
   "id": "0c0a0f13",
   "metadata": {},
   "outputs": [],
   "source": [
    "# Adicionando um item à lista\n",
    "lst3.append('d')"
   ]
  },
  {
   "cell_type": "code",
   "execution_count": 63,
   "id": "48811b2d",
   "metadata": {},
   "outputs": [
    {
     "data": {
      "text/plain": [
       "['a', '2', '300000', 'zz', '5', 'a', 'd']"
      ]
     },
     "execution_count": 63,
     "metadata": {},
     "output_type": "execute_result"
    }
   ],
   "source": [
    "# Copiando os itens de uma lista para outra\n",
    "lst4 = lst3\n",
    "lst4"
   ]
  },
  {
   "cell_type": "code",
   "execution_count": 65,
   "id": "e7dbc446",
   "metadata": {},
   "outputs": [
    {
     "data": {
      "text/plain": [
       "['2', '300000', '5', 'a', 'a', 'd', 'zz']"
      ]
     },
     "execution_count": 65,
     "metadata": {},
     "output_type": "execute_result"
    }
   ],
   "source": [
    "# Ordena a lista\n",
    "sorted(lst3)"
   ]
  },
  {
   "cell_type": "markdown",
   "id": "7a249e1b",
   "metadata": {},
   "source": [
    "## Dicionários"
   ]
  },
  {
   "cell_type": "code",
   "execution_count": null,
   "id": "b080b694",
   "metadata": {},
   "outputs": [],
   "source": [
    "# Isso é um dicionário"
   ]
  },
  {
   "cell_type": "code",
   "execution_count": null,
   "id": "0d6e934e",
   "metadata": {},
   "outputs": [],
   "source": [
    "# Adcionando um item ao dict"
   ]
  },
  {
   "cell_type": "code",
   "execution_count": null,
   "id": "35ab4b76",
   "metadata": {},
   "outputs": [],
   "source": [
    "# Selecionando um item"
   ]
  },
  {
   "cell_type": "code",
   "execution_count": null,
   "id": "91e58ac8",
   "metadata": {},
   "outputs": [],
   "source": [
    "# Deletando um dict"
   ]
  },
  {
   "cell_type": "code",
   "execution_count": null,
   "id": "29d0d9ba",
   "metadata": {},
   "outputs": [],
   "source": [
    "# tamanho de um dict"
   ]
  },
  {
   "cell_type": "code",
   "execution_count": null,
   "id": "c7a0388f",
   "metadata": {},
   "outputs": [],
   "source": [
    "# Dicionário de listas"
   ]
  },
  {
   "cell_type": "code",
   "execution_count": null,
   "id": "dc288855",
   "metadata": {},
   "outputs": [],
   "source": [
    "# Acessando um item da lista, dentro do dicionário"
   ]
  },
  {
   "cell_type": "code",
   "execution_count": null,
   "id": "0e389cf1",
   "metadata": {},
   "outputs": [],
   "source": [
    "# Criando uma lista de dicionários"
   ]
  },
  {
   "cell_type": "code",
   "execution_count": null,
   "id": "e5ca22ce",
   "metadata": {},
   "outputs": [],
   "source": []
  },
  {
   "cell_type": "markdown",
   "id": "5bbd4ae8",
   "metadata": {},
   "source": [
    "## Tuplas"
   ]
  },
  {
   "cell_type": "code",
   "execution_count": null,
   "id": "8d28247f",
   "metadata": {},
   "outputs": [],
   "source": [
    "# Criando uma tupla"
   ]
  },
  {
   "cell_type": "code",
   "execution_count": null,
   "id": "ae12469e",
   "metadata": {},
   "outputs": [],
   "source": [
    "# Imprimindo a tupla"
   ]
  },
  {
   "cell_type": "code",
   "execution_count": null,
   "id": "8886bb5b",
   "metadata": {},
   "outputs": [],
   "source": [
    "# Tuplas não suportam append()"
   ]
  },
  {
   "cell_type": "code",
   "execution_count": null,
   "id": "341c3bcf",
   "metadata": {},
   "outputs": [],
   "source": [
    "# Tuplas não suportam delete de um item específico"
   ]
  },
  {
   "cell_type": "code",
   "execution_count": null,
   "id": "40f2df35",
   "metadata": {},
   "outputs": [],
   "source": [
    "# Verificando o comprimento da tupla"
   ]
  },
  {
   "cell_type": "code",
   "execution_count": null,
   "id": "baa8d7c4",
   "metadata": {},
   "outputs": [],
   "source": [
    "#função count"
   ]
  },
  {
   "cell_type": "code",
   "execution_count": null,
   "id": "21c2ac2a",
   "metadata": {},
   "outputs": [],
   "source": []
  },
  {
   "cell_type": "code",
   "execution_count": null,
   "id": "54d668f4",
   "metadata": {},
   "outputs": [],
   "source": []
  },
  {
   "cell_type": "markdown",
   "id": "5242fe02",
   "metadata": {},
   "source": [
    "## Fluxo de Controle"
   ]
  },
  {
   "cell_type": "code",
   "execution_count": null,
   "id": "e5df3464",
   "metadata": {},
   "outputs": [],
   "source": [
    "#if\n"
   ]
  },
  {
   "cell_type": "code",
   "execution_count": null,
   "id": "b3826a06",
   "metadata": {},
   "outputs": [],
   "source": [
    "#while"
   ]
  },
  {
   "cell_type": "code",
   "execution_count": null,
   "id": "cb127b7e",
   "metadata": {},
   "outputs": [],
   "source": [
    "#for"
   ]
  },
  {
   "cell_type": "code",
   "execution_count": null,
   "id": "94d187e3",
   "metadata": {},
   "outputs": [],
   "source": []
  },
  {
   "cell_type": "code",
   "execution_count": null,
   "id": "53a528e1",
   "metadata": {},
   "outputs": [],
   "source": []
  },
  {
   "cell_type": "code",
   "execution_count": null,
   "id": "5830ef5c",
   "metadata": {},
   "outputs": [],
   "source": []
  }
 ],
 "metadata": {
  "kernelspec": {
   "display_name": "Python 3",
   "language": "python",
   "name": "python3"
  },
  "language_info": {
   "codemirror_mode": {
    "name": "ipython",
    "version": 3
   },
   "file_extension": ".py",
   "mimetype": "text/x-python",
   "name": "python",
   "nbconvert_exporter": "python",
   "pygments_lexer": "ipython3",
   "version": "3.8.8"
  }
 },
 "nbformat": 4,
 "nbformat_minor": 5
}
