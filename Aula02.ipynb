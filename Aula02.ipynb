{
 "cells": [
  {
   "cell_type": "code",
   "execution_count": 1,
   "id": "8b724a98",
   "metadata": {},
   "outputs": [],
   "source": [
    "# imports\n",
    "import numpy as np\n",
    "import scipy as sp\n",
    "import pandas as pd\n",
    "import matplotlib as mpl\n",
    "import seaborn as sns"
   ]
  },
  {
   "cell_type": "code",
   "execution_count": 2,
   "id": "6d3fcd54",
   "metadata": {},
   "outputs": [
    {
     "name": "stdout",
     "output_type": "stream",
     "text": [
      "      id  work_year experience_level employment_type  \\\n",
      "0      0       2020               MI              FT   \n",
      "1      1       2020               SE              FT   \n",
      "2      2       2020               SE              FT   \n",
      "3      3       2020               MI              FT   \n",
      "4      4       2020               SE              FT   \n",
      "..   ...        ...              ...             ...   \n",
      "602  602       2022               SE              FT   \n",
      "603  603       2022               SE              FT   \n",
      "604  604       2022               SE              FT   \n",
      "605  605       2022               SE              FT   \n",
      "606  606       2022               MI              FT   \n",
      "\n",
      "                      job_title  salary salary_currency  salary_in_usd  \\\n",
      "0                Data Scientist   70000             EUR          79833   \n",
      "1    Machine Learning Scientist  260000             USD         260000   \n",
      "2             Big Data Engineer   85000             GBP         109024   \n",
      "3          Product Data Analyst   20000             USD          20000   \n",
      "4     Machine Learning Engineer  150000             USD         150000   \n",
      "..                          ...     ...             ...            ...   \n",
      "602               Data Engineer  154000             USD         154000   \n",
      "603               Data Engineer  126000             USD         126000   \n",
      "604                Data Analyst  129000             USD         129000   \n",
      "605                Data Analyst  150000             USD         150000   \n",
      "606                AI Scientist  200000             USD         200000   \n",
      "\n",
      "    employee_residence  remote_ratio company_location company_size  \n",
      "0                   DE             0               DE            L  \n",
      "1                   JP             0               JP            S  \n",
      "2                   GB            50               GB            M  \n",
      "3                   HN             0               HN            S  \n",
      "4                   US            50               US            L  \n",
      "..                 ...           ...              ...          ...  \n",
      "602                 US           100               US            M  \n",
      "603                 US           100               US            M  \n",
      "604                 US             0               US            M  \n",
      "605                 US           100               US            M  \n",
      "606                 IN           100               US            L  \n",
      "\n",
      "[607 rows x 12 columns]\n"
     ]
    }
   ],
   "source": [
    "# Lendo o arquivo CSV\n",
    "df = pd.read_csv('ds_salaries.csv')\n",
    "\n",
    "# Exibindo o DataFrame\n",
    "print(df)"
   ]
  },
  {
   "cell_type": "code",
   "execution_count": 3,
   "id": "03e715fc",
   "metadata": {},
   "outputs": [
    {
     "name": "stdout",
     "output_type": "stream",
     "text": [
      "   id  work_year experience_level employment_type                   job_title  \\\n",
      "0   0       2020               MI              FT              Data Scientist   \n",
      "1   1       2020               SE              FT  Machine Learning Scientist   \n",
      "2   2       2020               SE              FT           Big Data Engineer   \n",
      "3   3       2020               MI              FT        Product Data Analyst   \n",
      "4   4       2020               SE              FT   Machine Learning Engineer   \n",
      "5   5       2020               EN              FT                Data Analyst   \n",
      "6   6       2020               SE              FT         Lead Data Scientist   \n",
      "7   7       2020               MI              FT              Data Scientist   \n",
      "8   8       2020               MI              FT       Business Data Analyst   \n",
      "9   9       2020               SE              FT          Lead Data Engineer   \n",
      "\n",
      "     salary salary_currency  salary_in_usd employee_residence  remote_ratio  \\\n",
      "0     70000             EUR          79833                 DE             0   \n",
      "1    260000             USD         260000                 JP             0   \n",
      "2     85000             GBP         109024                 GB            50   \n",
      "3     20000             USD          20000                 HN             0   \n",
      "4    150000             USD         150000                 US            50   \n",
      "5     72000             USD          72000                 US           100   \n",
      "6    190000             USD         190000                 US           100   \n",
      "7  11000000             HUF          35735                 HU            50   \n",
      "8    135000             USD         135000                 US           100   \n",
      "9    125000             USD         125000                 NZ            50   \n",
      "\n",
      "  company_location company_size  \n",
      "0               DE            L  \n",
      "1               JP            S  \n",
      "2               GB            M  \n",
      "3               HN            S  \n",
      "4               US            L  \n",
      "5               US            L  \n",
      "6               US            S  \n",
      "7               HU            L  \n",
      "8               US            L  \n",
      "9               NZ            S  \n",
      "      id  work_year experience_level employment_type     job_title  salary  \\\n",
      "606  606       2022               MI              FT  AI Scientist  200000   \n",
      "\n",
      "    salary_currency  salary_in_usd employee_residence  remote_ratio  \\\n",
      "606             USD         200000                 IN           100   \n",
      "\n",
      "    company_location company_size  \n",
      "606               US            L  \n"
     ]
    }
   ],
   "source": [
    "# Exibindo as 5 primeiras linhas do DataFrame\n",
    "print(df.head(10))\n",
    "\n",
    "# Exibindo as 5 últimas linhas do DataFrame\n",
    "print(df.tail(1))"
   ]
  },
  {
   "cell_type": "code",
   "execution_count": 4,
   "id": "c02c4aec",
   "metadata": {},
   "outputs": [
    {
     "name": "stdout",
     "output_type": "stream",
     "text": [
      "<class 'pandas.core.frame.DataFrame'>\n",
      "RangeIndex: 607 entries, 0 to 606\n",
      "Data columns (total 12 columns):\n",
      " #   Column              Non-Null Count  Dtype \n",
      "---  ------              --------------  ----- \n",
      " 0   id                  607 non-null    int64 \n",
      " 1   work_year           607 non-null    int64 \n",
      " 2   experience_level    607 non-null    object\n",
      " 3   employment_type     607 non-null    object\n",
      " 4   job_title           607 non-null    object\n",
      " 5   salary              607 non-null    int64 \n",
      " 6   salary_currency     607 non-null    object\n",
      " 7   salary_in_usd       607 non-null    int64 \n",
      " 8   employee_residence  607 non-null    object\n",
      " 9   remote_ratio        607 non-null    int64 \n",
      " 10  company_location    607 non-null    object\n",
      " 11  company_size        607 non-null    object\n",
      "dtypes: int64(5), object(7)\n",
      "memory usage: 57.0+ KB\n",
      "None\n",
      "               id    work_year        salary  salary_in_usd  remote_ratio\n",
      "count  607.000000   607.000000  6.070000e+02     607.000000     607.00000\n",
      "mean   303.000000  2021.405272  3.240001e+05  112297.869852      70.92257\n",
      "std    175.370085     0.692133  1.544357e+06   70957.259411      40.70913\n",
      "min      0.000000  2020.000000  4.000000e+03    2859.000000       0.00000\n",
      "25%    151.500000  2021.000000  7.000000e+04   62726.000000      50.00000\n",
      "50%    303.000000  2022.000000  1.150000e+05  101570.000000     100.00000\n",
      "75%    454.500000  2022.000000  1.650000e+05  150000.000000     100.00000\n",
      "max    606.000000  2022.000000  3.040000e+07  600000.000000     100.00000\n"
     ]
    }
   ],
   "source": [
    "# Exibindo informações básicas sobre o DataFrame\n",
    "print(df.info())\n",
    "\n",
    "# Exibindo estatísticas descritivas das colunas numéricas\n",
    "print(df.describe())"
   ]
  },
  {
   "cell_type": "code",
   "execution_count": null,
   "id": "93a1f2ef",
   "metadata": {},
   "outputs": [],
   "source": [
    "df.shape"
   ]
  },
  {
   "cell_type": "code",
   "execution_count": null,
   "id": "bbc91688",
   "metadata": {},
   "outputs": [],
   "source": [
    "print(df['job_title'].value_counts())"
   ]
  },
  {
   "cell_type": "code",
   "execution_count": null,
   "id": "919beafd",
   "metadata": {},
   "outputs": [],
   "source": [
    "# Calculando a média das colunas numéricas\n",
    "print(df.mean())\n",
    "\n",
    "#Calculando a mediana das colunas numéricas\n",
    "print(df.median())\n",
    "\n",
    "# Calculando o valor mínimo das colunas\n",
    "print(df.min())\n",
    "\n",
    "# Calculando o valor máximo das colunas\n",
    "print(df.max())\n",
    "\n",
    "# Calculando a soma das colunas\n",
    "print(df.sum())"
   ]
  },
  {
   "cell_type": "code",
   "execution_count": null,
   "id": "a60501e9",
   "metadata": {},
   "outputs": [],
   "source": [
    "df.corr()"
   ]
  },
  {
   "cell_type": "code",
   "execution_count": null,
   "id": "d402d32c",
   "metadata": {},
   "outputs": [],
   "source": [
    "grouped = df.groupby(['experience_level','employment_type'])['salary_in_usd'].mean()\n",
    "print(grouped)"
   ]
  },
  {
   "cell_type": "code",
   "execution_count": null,
   "id": "744643c6",
   "metadata": {},
   "outputs": [],
   "source": [
    "pivot = df.pivot_table(index='experience_level', \n",
    "columns='employment_type', values='salary_in_usd', aggfunc='mean')\n",
    "print(pivot)"
   ]
  },
  {
   "cell_type": "code",
   "execution_count": null,
   "id": "c7f77255",
   "metadata": {},
   "outputs": [],
   "source": [
    "# Excluindo linhas com valores ausentes usando dropna()\n",
    "df_dropna = df.dropna()\n",
    "print(df_dropna)\n",
    "\n",
    "# Preenchendo valores ausentes com fillna()\n",
    "df_fillna = df.fillna(0)\n",
    "print(df_fillna)\n",
    "\n",
    "# Preenchendo valores ausentes com a média das colunas usando fillna()\n",
    "mean = df.mean()\n",
    "df_fillna_mean = df.fillna(mean)\n",
    "print(df_fillna_mean)"
   ]
  },
  {
   "cell_type": "code",
   "execution_count": null,
   "id": "5509458e",
   "metadata": {},
   "outputs": [],
   "source": [
    "import pandas as pd\n",
    "import numpy as np\n",
    "\n",
    "# Criar um DataFrame a partir de um dicionário\n",
    "data = {\n",
    "    'col1': [1, 2, 3, 4],\n",
    "    'col2': [4, 5, 6, 7],\n",
    "    'col3': ['A', 'B', 'C', 'D']\n",
    "}\n",
    "df = pd.DataFrame(data)\n",
    "\n",
    "# Acessar uma coluna específica pelo nome da coluna\n",
    "cols = df[['col1','col3']]\n",
    "print(cols)\n",
    "\n",
    "# Acessar uma linha específica pelo índice\n",
    "row1 = df.loc[0]\n",
    "print(row1)\n",
    "\n",
    "# Acessar uma célula específica através do índice de linha e nome de coluna\n",
    "cell = df.loc[0, 'col2']\n",
    "print(cell)"
   ]
  },
  {
   "cell_type": "code",
   "execution_count": null,
   "id": "0f76fdf1",
   "metadata": {},
   "outputs": [],
   "source": [
    "import pandas as pd\n",
    "\n",
    "# Criar um DataFrame a partir de um dicionário\n",
    "data = {\n",
    "    'col1': [1, 2, 3, 4],\n",
    "    'col2': [4, 5, 6, 7],\n",
    "    'col3': ['A', 'B', 'C', 'D']\n",
    "}\n",
    "df = pd.DataFrame(data)\n",
    "\n",
    "# Adicionar uma nova coluna\n",
    "df['col4'] = [10, 20, 30, 40]\n",
    "print(df)\n",
    "\n",
    "# Excluir uma coluna\n",
    "df = df.drop(['col4'], axis=1)\n",
    "print(df)\n",
    "\n",
    "\n",
    "# Renomear colunas\n",
    "df = df.rename(columns={'col1': 'coluna_1', 'col2': 'coluna_2', 'col3': 'coluna_3'})\n",
    "print(df)\n"
   ]
  }
 ],
 "metadata": {
  "kernelspec": {
   "display_name": "Python 3",
   "language": "python",
   "name": "python3"
  },
  "language_info": {
   "codemirror_mode": {
    "name": "ipython",
    "version": 3
   },
   "file_extension": ".py",
   "mimetype": "text/x-python",
   "name": "python",
   "nbconvert_exporter": "python",
   "pygments_lexer": "ipython3",
   "version": "3.8.8"
  }
 },
 "nbformat": 4,
 "nbformat_minor": 5
}
